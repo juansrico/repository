{
 "cells": [
  {
   "cell_type": "markdown",
   "id": "dbfaef88-b558-45e9-b1b0-6ca8aa2f35d1",
   "metadata": {},
   "source": [
    "#### Title"
   ]
  },
  {
   "cell_type": "markdown",
   "id": "be906524-33b9-44ee-9bb2-ae4329f9144e",
   "metadata": {},
   "source": [
    "\"\"Title\"\""
   ]
  },
  {
   "cell_type": "markdown",
   "id": "e8dfa92f-2e8d-4bff-8710-127796761754",
   "metadata": {},
   "source": [
    "Text text text\n"
   ]
  },
  {
   "cell_type": "code",
   "execution_count": null,
   "id": "1127729a-6384-4a25-ae1a-accbb0fc5789",
   "metadata": {},
   "outputs": [],
   "source": []
  },
  {
   "cell_type": "code",
   "execution_count": null,
   "id": "a3af30f5-f30b-4089-8817-e9da762fc0dc",
   "metadata": {},
   "outputs": [],
   "source": []
  }
 ],
 "metadata": {
  "kernelspec": {
   "display_name": "Python 3 (ipykernel)",
   "language": "python",
   "name": "python3"
  },
  "language_info": {
   "codemirror_mode": {
    "name": "ipython",
    "version": 3
   },
   "file_extension": ".py",
   "mimetype": "text/x-python",
   "name": "python",
   "nbconvert_exporter": "python",
   "pygments_lexer": "ipython3",
   "version": "3.9.12"
  }
 },
 "nbformat": 4,
 "nbformat_minor": 5
}
